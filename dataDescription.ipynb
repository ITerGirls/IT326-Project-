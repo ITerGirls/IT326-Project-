{
  "metadata": {
    "kernelspec": {
      "name": "python",
      "display_name": "Python (Pyodide)",
      "language": "python"
    },
    "language_info": {
      "codemirror_mode": {
        "name": "python",
        "version": 3
      },
      "file_extension": ".py",
      "mimetype": "text/x-python",
      "name": "python",
      "nbconvert_exporter": "python",
      "pygments_lexer": "ipython3",
      "version": "3.8"
    }
  },
  "nbformat_minor": 4,
  "nbformat": 4,
  "cells": [
    {
      "cell_type": "code",
      "source": "### Goal of collecting the dataset\nOne common problem arises when users encounter content on social media platforms that does not align with their interests \nor preferences, leading to dissatisfaction and decreased engagement. This issue often stems from algorithms that fail to \naccurately personalize content based on individual user preferences, resulting in a mismatch between the content displayed and \nthe user's interests. As a result, users may become disenchanted with the platform, leading to reduced usage, loss of interest,\nor even abandonment.\nOur aim is to gauge users' interests and deliver content that suits their preferences, enhancing their overall experience on the platform. This involves analyzing their interactions and content consumption habits to customize the content they encounter. By understanding what users are interested in and how they interact with the platform, we can tailor the content to their preferences, ultimately making their experience more enjoyable.\n",
      "metadata": {
        "trusted": true
      },
      "outputs": [
        {
          "ename": "<class 'SyntaxError'>",
          "evalue": "unterminated string literal (detected at line 5) (<ipython-input-1-0dd04a9bf757>, line 5)",
          "traceback": [
            "\u001b[0;36m  Cell \u001b[0;32mIn[1], line 5\u001b[0;36m\u001b[0m\n\u001b[0;31m    the user's interests. As a result, users may become disenchanted with the platform, leading to reduced usage, loss of interest,\u001b[0m\n\u001b[0m            ^\u001b[0m\n\u001b[0;31mSyntaxError\u001b[0m\u001b[0;31m:\u001b[0m unterminated string literal (detected at line 5)\n"
          ],
          "output_type": "error"
        }
      ],
      "execution_count": 1
    },
    {
      "cell_type": "markdown",
      "source": "### our motive \nIn today's digital age, where social media plays a significant role in communication, information dissemination, and entertainment. By analyzing the average time spent by users, we can gain insights into their usage patterns, engagement levels, and preferences, which are valuable for platform optimization, content strategy development, and user experience enhancement.From a marketing perspective, the dataset provides valuable information for businesses and advertisers seeking to target specific demographics and optimize their advertising strategies. By understanding when and how users engage with social media, marketers can tailor their campaigns more effectively, increasing engagement and maximizing return on investment.\n",
      "metadata": {}
    },
    {
      "cell_type": "code",
      "source": "### General Information About The Dataset:\n[source of dataset](https://www.kaggle.com/datasets/imyjoshua/average-time-spent-by-a-user-on-social-media)\n\n- Number of object : 668\n- Number of attributes : 12\n- class name: interests\n",
      "metadata": {
        "trusted": true
      },
      "outputs": [],
      "execution_count": null
    },
    {
      "cell_type": "code",
      "source": "### Attribute Types:\n - age             int64 \n - gender          object\n - time_spent       int64 \n - platform        object\n - interests        object\n - location         object\n - demographics     object\n - profession       object\n - income           int64 \n - indebt            bool  \n - isHomeOwner       bool  \n - Owns_Car          boo\n\n",
      "metadata": {
        "trusted": true
      },
      "outputs": [],
      "execution_count": null
    }
  ]
}