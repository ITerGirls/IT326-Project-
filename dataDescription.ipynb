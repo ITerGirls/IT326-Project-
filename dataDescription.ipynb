{
  "metadata": {
    "kernelspec": {
      "name": "python",
      "display_name": "Python (Pyodide)",
      "language": "python"
    },
    "language_info": {
      "codemirror_mode": {
        "name": "python",
        "version": 3
      },
      "file_extension": ".py",
      "mimetype": "text/x-python",
      "name": "python",
      "nbconvert_exporter": "python",
      "pygments_lexer": "ipython3",
      "version": "3.8"
    }
  },
  "nbformat_minor": 4,
  "nbformat": 4,
  "cells": [
    {
      "cell_type": "markdown",
      "source": "### Goal of collecting the dataset\n-One common problem arises when users encounter content on social media platforms that does not align with their interests \nor preferences, leading to dissatisfaction and decreased engagement. This issue often stems from algorithms that fail to \naccurately personalize content based on individual user preferences, resulting in a mismatch between the content displayed and \nthe user's interests. As a result, users may become disenchanted with the platform, leading to reduced usage, loss of interest,\nor even abandonment.\n    \n-Our aim is to gauge users' interests and deliver content that suits their preferences, enhancing their overall experience on the platform. This involves analyzing their interactions and content consumption habits to customize the content they encounter. By understanding what users are interested in and how they interact with the platform, we can tailor the content to their preferences, ultimately making their experience more enjoyable.\n",
      "metadata": {}
    },
    {
      "cell_type": "markdown",
      "source": "### Our motive \n-In today's digital age, where social media plays a significant role in communication, information dissemination, and entertainment. By analyzing the average time spent by users, we can gain insights into their usage patterns, engagement levels, and preferences, which are valuable for platform optimization, content strategy development, and user experience enhancement.\n\n-From a marketing perspective, the dataset provides valuable information for businesses and advertisers seeking to target specific demographics and optimize their advertising strategies. By understanding when and how users engage with social media, marketers can tailor their campaigns more effectively, increasing engagement and maximizing return on investment.\n",
      "metadata": {}
    },
    {
      "cell_type": "markdown",
      "source": "### About Our Data\n-Our chosen dataset captures various aspects of individuals's social media usage and, demographics, and lifestyle choices. Each row represents a unique user.This dataset provides a comprehensive view of how different demographic groups engage with social media platforms, along with insights into their interests, financial status, and lifestyle preferences.\nour dataset was sourced from kaggle.com which you will find the link below.",
      "metadata": {}
    },
    {
      "cell_type": "markdown",
      "source": "### General Information About The Dataset:\n[source of dataset](https://www.kaggle.com/datasets/imyjoshua/average-time-spent-by-a-user-on-social-media)\n\n- Number of object : 668\n- Number of attributes : 12\n- class name: interests\n",
      "metadata": {}
    },
    {
      "cell_type": "code",
      "source": "| Attribute       | Description                                                                             | Data Type  |                                 \n|-----------------|-----------------------------------------------------------------------------------------|------------|\n| Age             | The age of the user.                                                                    | int64      |   \n| gender          | The gender identity of the user (Male, Female)                                          | object     |   \n| time_spent      | Amount of time spent on social media by the user                                        | int64      |    \n| platform        | The social media platform where the user spends time.                                   | object     |                 \n| interests       | The user's primary area of interest or hobby.                                           | object                      \n| location        | The country of residence for the user.                                                  | object     |                 \n| demographics    | The type of area the user resides in (Urban, Suburban, Rural).                          | object     |                 \n| profession      | The user's occupation or professional status.                                           |  object    |                \n| income          | The yearly income of the user.                                                          | int64      |      \n| indebt          | Indicates whether the user is in debt (True or False).                                  | boolean    |      \n| isHomeOwner     | Indicates whether the user owns a home (True or False).                                 | boolean    |      \n| Owns_Car        | Indicates whether the user owns cars (True or False                                     | boolean    |                 \n",
      "metadata": {
        "trusted": true
      },
      "outputs": [],
      "execution_count": null
    },
    {
      "cell_type": "markdown",
      "source": "",
      "metadata": {}
    }
  ]
}