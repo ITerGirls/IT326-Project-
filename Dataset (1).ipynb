{
  "metadata": {
    "kernelspec": {
      "name": "python",
      "display_name": "Python (Pyodide)",
      "language": "python"
    },
    "language_info": {
      "codemirror_mode": {
        "name": "python",
        "version": 3
      },
      "file_extension": ".py",
      "mimetype": "text/x-python",
      "name": "python",
      "nbconvert_exporter": "python",
      "pygments_lexer": "ipython3",
      "version": "3.8"
    }
  },
  "nbformat_minor": 4,
  "nbformat": 4,
  "cells": [
    {
      "cell_type": "code",
      "source": "import pandas as pd\nimport matplotlib.pyplot as plt\nfrom statistics import mean\n\ndf=pd.read_csv('dummy_data_p326_2.csv')\ndf1=pd.DataFrame(df)\nprint(df1)\n\n\n",
      "metadata": {
        "trusted": true
      },
      "outputs": [
        {
          "name": "stdout",
          "text": "     age  gender  time_spent   platform  interests        location  \\\n0     56    male           3  Instagram     Sports  United Kingdom   \n1     46  female           2   Facebook     Travel  United Kingdom   \n2     32    male           8  Instagram     Sports       Australia   \n3     25    male           1  Instagram  Lifestlye       Australia   \n4     38    male           3   Facebook     Travel   United States   \n..   ...     ...         ...        ...        ...             ...   \n663   50  female           9    YouTube     Travel       Australia   \n664   23  female           3    YouTube  Lifestlye   United States   \n665   22  female           8  Instagram  Lifestlye  United Kingdom   \n666   61  female           4    YouTube     Sports       Australia   \n667   19  female           8    YouTube     Travel       Australia   \n\n    demographics         profession  income  indebt  isHomeOwner  Owns_Car  \n0          Urban  Software Engineer   19774    True        False     False  \n1          Urban            Student   10564    True         True      True  \n2      Sub_Urban   Marketer Manager   13258   False        False     False  \n3          Urban  Software Engineer   14566   False         True      True  \n4          Urban   Marketer Manager   19179    True         True      True  \n..           ...                ...     ...     ...          ...       ...  \n663        Urban  Software Engineer   18648    True         True      True  \n664        Urban            Student   19196   False        False     False  \n665        Rural   Marketer Manager   18536   False         True     False  \n666    Sub_Urban   Marketer Manager   16273    True         True     False  \n667        Rural            Student   16284   False         True     False  \n\n[668 rows x 12 columns]\n",
          "output_type": "stream"
        }
      ],
      "execution_count": 1
    },
    {
      "cell_type": "code",
      "source": "print(df.info())\n",
      "metadata": {
        "trusted": true
      },
      "outputs": [
        {
          "name": "stdout",
          "text": "<class 'pandas.core.frame.DataFrame'>\nRangeIndex: 668 entries, 0 to 667\nData columns (total 12 columns):\n #   Column        Non-Null Count  Dtype \n---  ------        --------------  ----- \n 0   age           668 non-null    int64 \n 1   gender        668 non-null    object\n 2   time_spent    668 non-null    int64 \n 3   platform      668 non-null    object\n 4   interests     668 non-null    object\n 5   location      668 non-null    object\n 6   demographics  668 non-null    object\n 7   profession    668 non-null    object\n 8   income        668 non-null    int64 \n 9   indebt        668 non-null    bool  \n 10  isHomeOwner   668 non-null    bool  \n 11  Owns_Car      668 non-null    bool  \ndtypes: bool(3), int64(3), object(6)\nmemory usage: 33.3+ KB\nNone\n",
          "output_type": "stream"
        }
      ],
      "execution_count": 2
    },
    {
      "cell_type": "code",
      "source": "num_attributes = len(df.columns)\nprint(\"Number of attributes:\", num_attributes)",
      "metadata": {
        "trusted": true
      },
      "outputs": [
        {
          "name": "stdout",
          "text": "Number of attributes: 12\n",
          "output_type": "stream"
        }
      ],
      "execution_count": 3
    },
    {
      "cell_type": "code",
      "source": "num_rows = len(df)\nprint(\"Number of objects:\", num_rows)",
      "metadata": {
        "trusted": true
      },
      "outputs": [
        {
          "name": "stdout",
          "text": "Number of objects: 668\n",
          "output_type": "stream"
        }
      ],
      "execution_count": 4
    },
    {
      "cell_type": "code",
      "source": "attribute_types = df.dtypes\n\nprint(\"Data types of attributes:\")\nprint(attribute_types)",
      "metadata": {
        "trusted": true
      },
      "outputs": [
        {
          "name": "stdout",
          "text": "Data types of attributes:\nage              int64\ngender          object\ntime_spent       int64\nplatform        object\ninterests       object\nlocation        object\ndemographics    object\nprofession      object\nincome           int64\nindebt            bool\nisHomeOwner       bool\nOwns_Car          bool\ndtype: object\n",
          "output_type": "stream"
        }
      ],
      "execution_count": 5
    },
    {
      "cell_type": "code",
      "source": "class_labels = df['interests'].unique()\n\nprint(\"Class labels:\")\nprint(class_labels)",
      "metadata": {
        "trusted": true
      },
      "outputs": [
        {
          "name": "stdout",
          "text": "Class labels:\n['Sports' 'Travel' 'Lifestlye']\n",
          "output_type": "stream"
        }
      ],
      "execution_count": 7
    },
    {
      "cell_type": "code",
      "source": "#Remove rows with missing data(NaN) \ndf_cleaned = df.dropna()\n\n#Display The cleaned dataframe\nprint(\"/nDataFrame after removing rows rows with missing data:\")\nprint(df_cleaned )",
      "metadata": {
        "trusted": true
      },
      "outputs": [
        {
          "name": "stdout",
          "text": "/nDataFrame after removing rows rows with missing data:\n     age  gender  time_spent   platform  interests        location  \\\n0     56    male           3  Instagram     Sports  United Kingdom   \n1     46  female           2   Facebook     Travel  United Kingdom   \n2     32    male           8  Instagram     Sports       Australia   \n3     25    male           1  Instagram  Lifestlye       Australia   \n4     38    male           3   Facebook     Travel   United States   \n..   ...     ...         ...        ...        ...             ...   \n663   50  female           9    YouTube     Travel       Australia   \n664   23  female           3    YouTube  Lifestlye   United States   \n665   22  female           8  Instagram  Lifestlye  United Kingdom   \n666   61  female           4    YouTube     Sports       Australia   \n667   19  female           8    YouTube     Travel       Australia   \n\n    demographics         profession  income  indebt  isHomeOwner  Owns_Car  \n0          Urban  Software Engineer   19774    True        False     False  \n1          Urban            Student   10564    True         True      True  \n2      Sub_Urban   Marketer Manager   13258   False        False     False  \n3          Urban  Software Engineer   14566   False         True      True  \n4          Urban   Marketer Manager   19179    True         True      True  \n..           ...                ...     ...     ...          ...       ...  \n663        Urban  Software Engineer   18648    True         True      True  \n664        Urban            Student   19196   False        False     False  \n665        Rural   Marketer Manager   18536   False         True     False  \n666    Sub_Urban   Marketer Manager   16273    True         True     False  \n667        Rural            Student   16284   False         True     False  \n\n[668 rows x 12 columns]\n",
          "output_type": "stream"
        }
      ],
      "execution_count": 8
    },
    {
      "cell_type": "code",
      "source": "#Null and missing values can badly affect the efficiency of the dataset and the information\n#that can be extracted from the data later, thus we checked if our data contains missing or\n#null values and deleted these rows to get more efficient dataset.",
      "metadata": {
        "trusted": true
      },
      "outputs": [],
      "execution_count": null
    },
    {
      "cell_type": "code",
      "source": "# Select the 'age' \nage_column = df['age']\n# Calculate the mean of the 'age' column\n\nmean_age = age_column.mean()\n# Calculate the absolute differences from the mean\ndifferences_from_mean = abs(age_column - mean_age)\n# Find the index of the row with the largest difference from the mean\nmax_difference_index = differences_from_mean.idxmax()\n# Remove the row with the largest difference from the mean\ndf_no_outlier = df.drop(max_difference_index)\n# Display the original DataFrame and the DataFrame after removing the row with the largest difference\n#from the mean\nprint(\"Original DataFrame:\")\nprint(df)\nprint(\"\\nDataFrame after removing the row with the largest difference from the mean:\")\nprint(df_no_outlier)",
      "metadata": {
        "trusted": true
      },
      "outputs": [
        {
          "name": "stdout",
          "text": "Original DataFrame:\n     age  gender  time_spent   platform  interests        location  \\\n0     56    male           3  Instagram     Sports  United Kingdom   \n1     46  female           2   Facebook     Travel  United Kingdom   \n2     32    male           8  Instagram     Sports       Australia   \n3     25    male           1  Instagram  Lifestlye       Australia   \n4     38    male           3   Facebook     Travel   United States   \n..   ...     ...         ...        ...        ...             ...   \n663   50  female           9    YouTube     Travel       Australia   \n664   23  female           3    YouTube  Lifestlye   United States   \n665   22  female           8  Instagram  Lifestlye  United Kingdom   \n666   61  female           4    YouTube     Sports       Australia   \n667   19  female           8    YouTube     Travel       Australia   \n\n    demographics         profession  income  indebt  isHomeOwner  Owns_Car  \n0          Urban  Software Engineer   19774    True        False     False  \n1          Urban            Student   10564    True         True      True  \n2      Sub_Urban   Marketer Manager   13258   False        False     False  \n3          Urban  Software Engineer   14566   False         True      True  \n4          Urban   Marketer Manager   19179    True         True      True  \n..           ...                ...     ...     ...          ...       ...  \n663        Urban  Software Engineer   18648    True         True      True  \n664        Urban            Student   19196   False        False     False  \n665        Rural   Marketer Manager   18536   False         True     False  \n666    Sub_Urban   Marketer Manager   16273    True         True     False  \n667        Rural            Student   16284   False         True     False  \n\n[668 rows x 12 columns]\n\nDataFrame after removing the row with the largest difference from the mean:\n     age  gender  time_spent   platform  interests        location  \\\n0     56    male           3  Instagram     Sports  United Kingdom   \n1     46  female           2   Facebook     Travel  United Kingdom   \n2     32    male           8  Instagram     Sports       Australia   \n3     25    male           1  Instagram  Lifestlye       Australia   \n4     38    male           3   Facebook     Travel   United States   \n..   ...     ...         ...        ...        ...             ...   \n663   50  female           9    YouTube     Travel       Australia   \n664   23  female           3    YouTube  Lifestlye   United States   \n665   22  female           8  Instagram  Lifestlye  United Kingdom   \n666   61  female           4    YouTube     Sports       Australia   \n667   19  female           8    YouTube     Travel       Australia   \n\n    demographics         profession  income  indebt  isHomeOwner  Owns_Car  \n0          Urban  Software Engineer   19774    True        False     False  \n1          Urban            Student   10564    True         True      True  \n2      Sub_Urban   Marketer Manager   13258   False        False     False  \n3          Urban  Software Engineer   14566   False         True      True  \n4          Urban   Marketer Manager   19179    True         True      True  \n..           ...                ...     ...     ...          ...       ...  \n663        Urban  Software Engineer   18648    True         True      True  \n664        Urban            Student   19196   False        False     False  \n665        Rural   Marketer Manager   18536   False         True     False  \n666    Sub_Urban   Marketer Manager   16273    True         True     False  \n667        Rural            Student   16284   False         True     False  \n\n[667 rows x 12 columns]\n",
          "output_type": "stream"
        }
      ],
      "execution_count": 16
    },
    {
      "cell_type": "code",
      "source": "# Select the 'time_spent' \ntime_spent_col = df['time_spent']\n# Calculate the mean of the 'time' column\n\nmean_time = time_spent_col.mean()\n# Calculate the absolute differences from the mean\ndifferences_from_mean1 = abs(time_spent_col - mean_time)\n# Find the index of the row with the largest difference from the mean\nmax_difference_index1 = differences_from_mean.idxmax()\n# Remove the row with the largest difference from the mean\ndf_no_outlier1 = df.drop(max_difference_index1)\n# Display the original DataFrame and the DataFrame after removing the row with the largest difference\n#from the mean\nprint(\"Original DataFrame:\")\nprint(df)\nprint(\"\\nDataFrame after removing the row with the largest difference from the mean:\")\nprint(df_no_outlier1)",
      "metadata": {
        "trusted": true
      },
      "outputs": [],
      "execution_count": null
    },
    {
      "cell_type": "code",
      "source": "# Select the 'income' \nincome_col = df['income']\n# Calculate the mean of the 'income' column\n\nmean_income = income_col.mean()\n# Calculate the absolute differences from the mean\ndifferences_from_mean2 = abs(time_spent_col - mean_time)\n# Find the index of the row with the largest difference from the mean\nmax_difference_index2 = differences_from_mean.idxmax()\n# Remove the row with the largest difference from the mean\ndf_no_outlier2 = df.drop(max_difference_index2)\n# Display the original DataFrame and the DataFrame after removing the row with the largest difference\n#from the mean\nprint(\"Original DataFrame:\")\nprint(df)\nprint(\"\\nDataFrame after removing the row with the largest difference from the mean:\")\nprint(df_no_outlier2)",
      "metadata": {
        "trusted": true
      },
      "outputs": [],
      "execution_count": null
    },
    {
      "cell_type": "code",
      "source": "#First, we identified all outliers in the numeric attributes. Second, we deleted the rows where\n#we find the outliers to produce more accurate dataset that help us to get more accurate\n#results later, finally we checked again to make sure all outliers have been deleted then\n#delete the new outliers that occurred because of the IQR change after deleting the rows in\n#the second step",
      "metadata": {
        "trusted": true
      },
      "outputs": [],
      "execution_count": null
    }
  ]
}