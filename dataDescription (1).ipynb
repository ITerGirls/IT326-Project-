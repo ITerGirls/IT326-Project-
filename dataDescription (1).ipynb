{
  "metadata": {
    "kernelspec": {
      "name": "python",
      "display_name": "Python (Pyodide)",
      "language": "python"
    },
    "language_info": {
      "codemirror_mode": {
        "name": "python",
        "version": 3
      },
      "file_extension": ".py",
      "mimetype": "text/x-python",
      "name": "python",
      "nbconvert_exporter": "python",
      "pygments_lexer": "ipython3",
      "version": "3.8"
    }
  },
  "nbformat_minor": 4,
  "nbformat": 4,
  "cells": [
    {
      "cell_type": "markdown",
      "source": "### Goal of collecting the dataset\n-One common problem arises when users encounter content on social media platforms that does not align with their interests \nor preferences, leading to dissatisfaction and decreased engagement. This issue often stems from algorithms that fail to \naccurately personalize content based on individual user preferences, resulting in a mismatch between the content displayed and \nthe user's interests. As a result, users may become disenchanted with the platform, leading to reduced usage, loss of interest,\nor even abandonment.\n    \n-Our aim is to gauge users' interests and deliver content that suits their preferences, enhancing their overall experience on the platform. This involves analyzing their interactions and content consumption habits to customize the content they encounter. By understanding what users are interested in and how they interact with the platform, we can tailor the content to their preferences, ultimately making their experience more enjoyable.\n\n-In our dataset, we plan to use clustering and classification techniques to gain insights and make predictions. Clustering will help us identify natural groupings or segments within the data, which can be useful for understanding user behavior patterns or segmenting the data for targeted strategies. Classification, on the other hand, will allow us to predict or categorize new data points based on the patterns learned from the dataset. This can help us make informed decisions or automate certain processes based on the characteristics of the data. Overall, clustering and classification will help us extract valuable information from our dataset and improve our understanding of the underlying patterns and trends.\r\n\r\n\r\n\r\n\r\n\r\n",
      "metadata": {}
    },
    {
      "cell_type": "markdown",
      "source": "### Our motive \n-In today's digital age, where social media plays a significant role in communication, information dissemination, and entertainment. By analyzing the average time spent by users, we can gain insights into their usage patterns, engagement levels, and preferences, which are valuable for platform optimization, content strategy development, and user experience enhancement.\n\n-From a marketing perspective, the dataset provides valuable information for businesses and advertisers seeking to target specific demographics and optimize their advertising strategies. By understanding when and how users engage with social media, marketers can tailor their campaigns more effectively, increasing engagement and maximizing return on investment.\n",
      "metadata": {}
    },
    {
      "cell_type": "markdown",
      "source": "### About Our Data\n-Our chosen dataset captures various aspects of individuals social media usage, demographics, and lifestyle choices. Each row represents a unique user.This dataset provides a comprehensive view of how different demographic groups engage with social media platforms, along with insights into their interests, financial status, and lifestyle preferences.\nOur dataset was sourced from kaggle.com which you will find the link below.",
      "metadata": {}
    },
    {
      "cell_type": "markdown",
      "source": "### General Information About The Dataset:\n[source of dataset](https://www.kaggle.com/datasets/imyjoshua/average-time-spent-by-a-user-on-social-media)\n\n- Number of object : 668\n- Number of attributes : 12\n- class name: interests\n",
      "metadata": {}
    },
    {
      "cell_type": "markdown",
      "source": "| Attribute       | Description                                                                             | Data Type        | Range           |\r\n|-----------------|-----------------------------------------------------------------------------------------|------------------|-----------------|\r\n| Age             | The age of the user.                                                                    | int64            | 18-64           |\r\n| Gender          | The gender identity of the user (Male, Female)                                          | object                |         Female(0), Male(1) |              |\r\n| Time Spent      | Amount of time spent on social media by the user (hours).                               | int64            | 1-9             |\r\n| Platform        | The social media platform where the user spends time.                                   | object           |                 |\r\n| Interests       | The user's primary area of interest or hobby.                                           | object           |                 |\r\n| Location        | The country of residence for the user.                                                  | object           |                 |\r\n| Demographics    | The type of area the user resides in (Urban, Suburban, Rural).                          | object           |                 |\r\n| Profession      | The user's occupation or professional status.                                           | object           |                 |\r\n| Income          | The yearly income of the user.                                                          | int64            | 10000-20000     |\r\n| Indebt          | Indicates whether the user is in debt (True or False).                                  | boolean          | True or False   |\r\n| Is Home Owner   | Indicates whether the user owns a home (True or False).                                 | boolean          | True or False   |\r\n| Owns Car        | Indicates whether the user owns cars (True or False).                                   | boolean          | True or False   |",
      "metadata": {}
    },
    {
      "cell_type": "markdown",
      "source": "",
      "metadata": {}
    }
  ]
}