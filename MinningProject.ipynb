{
  "metadata": {
    "kernelspec": {
      "name": "python",
      "display_name": "Python (Pyodide)",
      "language": "python"
    },
    "language_info": {
      "codemirror_mode": {
        "name": "python",
        "version": 3
      },
      "file_extension": ".py",
      "mimetype": "text/x-python",
      "name": "python",
      "nbconvert_exporter": "python",
      "pygments_lexer": "ipython3",
      "version": "3.8"
    }
  },
  "nbformat_minor": 4,
  "nbformat": 4,
  "cells": [
    {
      "cell_type": "code",
      "source": "# One common problem arises when users encounter content on social media platforms that does not align with their interests \n# or preferences, leading to dissatisfaction and decreased engagement. This issue often stems from algorithms that fail to \n# accurately personalize content based on individual user preferences, resulting in a mismatch between the content displayed and \n# the user's interests. As a result, users may become disenchanted with the platform, leading to reduced usage, loss of interest,\n# or even abandonment.",
      "metadata": {
        "trusted": true
      },
      "outputs": [],
      "execution_count": 12
    },
    {
      "cell_type": "code",
      "source": "# today's digital age, where social media plays a significant role in communication, \n# information dissemination, and entertainment. By analyzing the average time spent by users,\n# we can gain insights into their usage patterns, engagement levels, and preferences, \n# which are valuable for platform optimization, content strategy development, and user experience enhancement.\n# From a marketing perspective, the dataset provides valuable information for businesses and advertisers seeking to target specific\n# demographics and optimize their advertising strategies. By understanding when and how users engage with social media,\n# marketers can tailor their campaigns more effectively, increasing engagement and maximizing return on investment.",
      "metadata": {
        "trusted": true
      },
      "outputs": [],
      "execution_count": 13
    },
    {
      "cell_type": "code",
      "source": "#Data:\n#the source :  https://www.kaggle.com/datasets/imyjoshua/average-time-spent-by-a-user-on-social-media\n#Number of object : 668\n#Number of attributes : 12\n",
      "metadata": {
        "trusted": true
      },
      "outputs": [],
      "execution_count": 29
    },
    {
      "cell_type": "code",
      "source": "",
      "metadata": {
        "trusted": true
      },
      "outputs": [],
      "execution_count": null
    }
  ]
}